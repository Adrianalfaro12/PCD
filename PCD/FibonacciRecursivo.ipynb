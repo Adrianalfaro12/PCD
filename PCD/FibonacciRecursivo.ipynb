{
 "cells": [
  {
   "cell_type": "code",
   "execution_count": 1,
   "id": "264af350-7f60-4af0-870b-2dfd05dc8593",
   "metadata": {},
   "outputs": [
    {
     "data": {
      "text/plain": [
       "[0, 1, 1, 2, 3, 5, 8, 13, 21, 34]"
      ]
     },
     "execution_count": 1,
     "metadata": {},
     "output_type": "execute_result"
    }
   ],
   "source": [
    "def fibo_recursivo(n):\n",
    "    if n <= 1:\n",
    "        return n #Caso base\n",
    "    else:\n",
    "        return fibo_recursivo(n - 1) + fibo_recursivo(n - 2)\n",
    "#LLamadas recursivas\n",
    "[fibo_recursivo(x) for x in range(10)]"
   ]
  },
  {
   "cell_type": "code",
   "execution_count": 2,
   "id": "61a97c30-0a1e-4a84-bfdb-d75c5f3cac87",
   "metadata": {},
   "outputs": [
    {
     "data": {
      "text/plain": [
       "6765"
      ]
     },
     "execution_count": 2,
     "metadata": {},
     "output_type": "execute_result"
    }
   ],
   "source": [
    "fibo_recursivo(20)"
   ]
  },
  {
   "cell_type": "code",
   "execution_count": null,
   "id": "bd2e0532-5940-4c7d-8081-614ee8c7bd67",
   "metadata": {},
   "outputs": [],
   "source": [
    "fibo_recursivo(2345)"
   ]
  }
 ],
 "metadata": {
  "kernelspec": {
   "display_name": "Python 3",
   "language": "python",
   "name": "python3"
  },
  "language_info": {
   "codemirror_mode": {
    "name": "ipython",
    "version": 3
   },
   "file_extension": ".py",
   "mimetype": "text/x-python",
   "name": "python",
   "nbconvert_exporter": "python",
   "pygments_lexer": "ipython3",
   "version": "3.8.8"
  }
 },
 "nbformat": 4,
 "nbformat_minor": 5
}
