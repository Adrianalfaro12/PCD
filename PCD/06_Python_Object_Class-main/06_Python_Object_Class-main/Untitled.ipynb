{
 "cells": [
  {
   "cell_type": "code",
   "execution_count": 1,
   "id": "96bc8aaf-f9d1-4cf3-b29a-5b69fd6346af",
   "metadata": {},
   "outputs": [],
   "source": [
    " a = 50"
   ]
  },
  {
   "cell_type": "code",
   "execution_count": 2,
   "id": "9f40c777-19ca-4823-a5da-a903f0fedd4c",
   "metadata": {},
   "outputs": [],
   "source": [
    "b = 50* 25.00"
   ]
  },
  {
   "cell_type": "code",
   "execution_count": null,
   "id": "7eeb0c8e-cf7c-49d6-91dd-654c26ece398",
   "metadata": {},
   "outputs": [],
   "source": []
  },
  {
   "cell_type": "code",
   "execution_count": null,
   "id": "9136ef62-c671-450c-989b-ac3033bad2c0",
   "metadata": {},
   "outputs": [],
   "source": []
  },
  {
   "cell_type": "code",
   "execution_count": null,
   "id": "03df4e9d-d733-4aac-979f-334a18cbb80b",
   "metadata": {},
   "outputs": [],
   "source": []
  },
  {
   "cell_type": "code",
   "execution_count": 3,
   "id": "57caaa51-68a2-41c6-8e19-58c2c40512bf",
   "metadata": {},
   "outputs": [],
   "source": [
    "nombre = 'Adrian Rodriguez'"
   ]
  },
  {
   "cell_type": "code",
   "execution_count": 4,
   "id": "9d15b096-572a-495b-95e2-2b38ca870e9d",
   "metadata": {},
   "outputs": [
    {
     "data": {
      "text/plain": [
       "'Adrian 1250.0 Rdriguez'"
      ]
     },
     "execution_count": 4,
     "metadata": {},
     "output_type": "execute_result"
    }
   ],
   "source": [
    "f\"Adrian {str(b)} Rdriguez\""
   ]
  },
  {
   "cell_type": "code",
   "execution_count": 5,
   "id": "e6df8c6c-ccb3-49b0-84cc-34a347b65837",
   "metadata": {},
   "outputs": [
    {
     "data": {
      "text/plain": [
       "'A'"
      ]
     },
     "execution_count": 5,
     "metadata": {},
     "output_type": "execute_result"
    }
   ],
   "source": [
    "nombre[0]"
   ]
  },
  {
   "cell_type": "code",
   "execution_count": 6,
   "id": "bea4c2ab-87e5-4921-88e4-3a97b5a81b3c",
   "metadata": {},
   "outputs": [
    {
     "data": {
      "text/plain": [
       "'adrian rodriguez'"
      ]
     },
     "execution_count": 6,
     "metadata": {},
     "output_type": "execute_result"
    }
   ],
   "source": [
    "nombre.lower()"
   ]
  },
  {
   "cell_type": "code",
   "execution_count": 7,
   "id": "e42f548e-9449-4af1-91a3-ca12f26bec3a",
   "metadata": {},
   "outputs": [
    {
     "data": {
      "text/plain": [
       "str"
      ]
     },
     "execution_count": 7,
     "metadata": {},
     "output_type": "execute_result"
    }
   ],
   "source": [
    "type(nombre)"
   ]
  },
  {
   "cell_type": "code",
   "execution_count": 9,
   "id": "d0793527-0c24-4f6e-9d87-cafebfcb2313",
   "metadata": {},
   "outputs": [],
   "source": [
    "if nombre[-1] == 0: print(\"un chiste\")"
   ]
  },
  {
   "cell_type": "code",
   "execution_count": 10,
   "id": "cc0a82c8-88ba-43b9-9105-52664a63a889",
   "metadata": {},
   "outputs": [
    {
     "name": "stdout",
     "output_type": "stream",
     "text": [
      "0\n",
      "hey\n",
      "1\n",
      "hey\n",
      "2\n",
      "hey\n",
      "3\n",
      "hey\n",
      "4\n",
      "hey\n"
     ]
    }
   ],
   "source": [
    "for i in range(0,5):\n",
    "    print(str(i))\n",
    "    print('hey')"
   ]
  },
  {
   "cell_type": "code",
   "execution_count": 11,
   "id": "d2db587a-d1a0-4090-8eb7-cabd1cd54c07",
   "metadata": {},
   "outputs": [],
   "source": [
    "def feliz_cumple(nombre):\n",
    "    print(f\"Feliz cumple, tas bien ruco, {nombre}!\")"
   ]
  },
  {
   "cell_type": "code",
   "execution_count": 12,
   "id": "5bef5137-75c1-45df-a9f0-f8ec1d14434c",
   "metadata": {},
   "outputs": [
    {
     "name": "stdout",
     "output_type": "stream",
     "text": [
      "Feliz cumple, tas bien ruco, luis!\n"
     ]
    }
   ],
   "source": [
    "feliz_cumple('luis')"
   ]
  },
  {
   "cell_type": "code",
   "execution_count": 13,
   "id": "42697361-e4e8-491a-9625-ee0429e79d80",
   "metadata": {},
   "outputs": [],
   "source": [
    "lista_patos=['hugo','paco','luis']"
   ]
  },
  {
   "cell_type": "code",
   "execution_count": 14,
   "id": "1d1dfedb-6667-4bdc-abd8-303f7b3efee6",
   "metadata": {},
   "outputs": [
    {
     "data": {
      "text/plain": [
       "'paco'"
      ]
     },
     "execution_count": 14,
     "metadata": {},
     "output_type": "execute_result"
    }
   ],
   "source": [
    "lista_patos[1]"
   ]
  },
  {
   "cell_type": "code",
   "execution_count": 17,
   "id": "78b6e876-d9c4-4988-8b1a-18f00aac41cd",
   "metadata": {},
   "outputs": [
    {
     "data": {
      "text/plain": [
       "['paco', 'luis']"
      ]
     },
     "execution_count": 17,
     "metadata": {},
     "output_type": "execute_result"
    }
   ],
   "source": [
    "lista_patos[1:]"
   ]
  },
  {
   "cell_type": "code",
   "execution_count": 18,
   "id": "b60c5ad2-8b18-4a6e-8aa4-e187c0ac22e6",
   "metadata": {},
   "outputs": [
    {
     "data": {
      "text/plain": [
       "['HUGO', 'PACO', 'LUIS']"
      ]
     },
     "execution_count": 18,
     "metadata": {},
     "output_type": "execute_result"
    }
   ],
   "source": [
    "[x.upper() for x in lista_patos]"
   ]
  },
  {
   "cell_type": "code",
   "execution_count": 19,
   "id": "27869fd8-f406-40cf-95a4-27509452acfb",
   "metadata": {},
   "outputs": [
    {
     "data": {
      "text/plain": [
       "('hugo', 'paco', 'luis')"
      ]
     },
     "execution_count": 19,
     "metadata": {},
     "output_type": "execute_result"
    }
   ],
   "source": [
    "tuple(lista_patos)"
   ]
  },
  {
   "cell_type": "code",
   "execution_count": 20,
   "id": "e5dd73a8-ac17-4af3-a7af-aa91fb6f6b5b",
   "metadata": {},
   "outputs": [
    {
     "name": "stdout",
     "output_type": "stream",
     "text": [
      "{'hugo': 7, 'paco': 7, 'luis': 7}\n"
     ]
    }
   ],
   "source": [
    "edades_patos = {x:7 for x in lista_patos}\n",
    "print(edades_patos)"
   ]
  },
  {
   "cell_type": "code",
   "execution_count": 21,
   "id": "2c01e0a6-93af-42ae-bafb-30155712c722",
   "metadata": {},
   "outputs": [
    {
     "data": {
      "text/plain": [
       "7"
      ]
     },
     "execution_count": 21,
     "metadata": {},
     "output_type": "execute_result"
    }
   ],
   "source": [
    "edades_patos['paco']"
   ]
  },
  {
   "cell_type": "code",
   "execution_count": 23,
   "id": "96c7f1d7-6c19-4c8b-b010-8e4e316bd0c4",
   "metadata": {},
   "outputs": [
    {
     "data": {
      "text/plain": [
       "dict_keys(['hugo', 'paco', 'luis'])"
      ]
     },
     "execution_count": 23,
     "metadata": {},
     "output_type": "execute_result"
    }
   ],
   "source": [
    "edades_patos.keys()"
   ]
  },
  {
   "cell_type": "code",
   "execution_count": 24,
   "id": "2daf5311-f89d-43b6-aae0-d29b215d2c90",
   "metadata": {},
   "outputs": [],
   "source": [
    "import pandas as pd "
   ]
  },
  {
   "cell_type": "code",
   "execution_count": 28,
   "id": "483f8edf-d1f6-450f-a61d-490b25e0fedc",
   "metadata": {},
   "outputs": [],
   "source": [
    "df = pd.DataFrame([edades_patos])"
   ]
  },
  {
   "cell_type": "code",
   "execution_count": 32,
   "id": "aaab0f3b-a66c-49d1-8768-581bd623668a",
   "metadata": {},
   "outputs": [
    {
     "data": {
      "text/html": [
       "<div>\n",
       "<style scoped>\n",
       "    .dataframe tbody tr th:only-of-type {\n",
       "        vertical-align: middle;\n",
       "    }\n",
       "\n",
       "    .dataframe tbody tr th {\n",
       "        vertical-align: top;\n",
       "    }\n",
       "\n",
       "    .dataframe thead th {\n",
       "        text-align: right;\n",
       "    }\n",
       "</style>\n",
       "<table border=\"1\" class=\"dataframe\">\n",
       "  <thead>\n",
       "    <tr style=\"text-align: right;\">\n",
       "      <th></th>\n",
       "      <th>hugo</th>\n",
       "      <th>paco</th>\n",
       "      <th>luis</th>\n",
       "    </tr>\n",
       "  </thead>\n",
       "  <tbody>\n",
       "    <tr>\n",
       "      <th>0</th>\n",
       "      <td>7</td>\n",
       "      <td>7</td>\n",
       "      <td>7</td>\n",
       "    </tr>\n",
       "  </tbody>\n",
       "</table>\n",
       "</div>"
      ],
      "text/plain": [
       "   hugo  paco  luis\n",
       "0     7     7     7"
      ]
     },
     "execution_count": 32,
     "metadata": {},
     "output_type": "execute_result"
    }
   ],
   "source": [
    "df"
   ]
  },
  {
   "cell_type": "code",
   "execution_count": 29,
   "id": "f6b01ba3-214f-4ff4-9695-a693b72288cd",
   "metadata": {},
   "outputs": [
    {
     "data": {
      "text/plain": [
       "0    7\n",
       "Name: paco, dtype: int64"
      ]
     },
     "execution_count": 29,
     "metadata": {},
     "output_type": "execute_result"
    }
   ],
   "source": [
    "df['paco']"
   ]
  },
  {
   "cell_type": "code",
   "execution_count": 30,
   "id": "89da08a6-6f91-4c85-81d4-8ded6af16594",
   "metadata": {},
   "outputs": [
    {
     "data": {
      "text/plain": [
       "hugo    7\n",
       "paco    7\n",
       "luis    7\n",
       "Name: 0, dtype: int64"
      ]
     },
     "execution_count": 30,
     "metadata": {},
     "output_type": "execute_result"
    }
   ],
   "source": [
    "df.loc[0]"
   ]
  },
  {
   "cell_type": "code",
   "execution_count": 31,
   "id": "3cb9837e-308f-4bf0-a67f-6c1a1138919f",
   "metadata": {},
   "outputs": [
    {
     "data": {
      "text/plain": [
       "hugo    7\n",
       "paco    7\n",
       "luis    7\n",
       "Name: 0, dtype: int64"
      ]
     },
     "execution_count": 31,
     "metadata": {},
     "output_type": "execute_result"
    }
   ],
   "source": [
    "df.iloc[0]"
   ]
  },
  {
   "cell_type": "markdown",
   "id": "3c580fc5-6ed2-47e5-8e1f-5c875c44149f",
   "metadata": {},
   "source": [
    "The dataset you're given (data.csv) contains information about vehicle colision reports in the Monterrey Metropolitan area.\n",
    "Analyze the data and answer the following questions based on it.\n",
    "Please be sure to reply back to us with your answers and attach the source code you used to answer them (it can be a Jupyter notebook, an Rmd script, an R script, a Python script, an Excel spreadsheet, etc.)\n",
    "\n",
    "\n",
    "## Questions\n",
    "\n",
    "\n",
    "1. Which roads \"appear to be\" the top 10 most dangerous roads of Monterrey Metropolitan area?\n",
    "2. What's the age group with the overall highest number of reported colisions? You can consider any age groupings for the purposes of this question. Explain this in a graphical way.\n",
    "3. If you were to see a collision in the \"Garza Sada\" road, What would be the odds for that person to have any type of positive alcohol ingestion opinion?\n",
    "4. Why do you think we use the phrase \"appear to be\" in question 1? What would you need to be able to speak with more confidence about the answer to that question?\n",
    "5. What modelling project would you push to develop from the conclusions in this dataset?\n"
   ]
  },
  {
   "cell_type": "code",
   "execution_count": null,
   "id": "af40bc2b-427b-40f0-9258-24bf2370589b",
   "metadata": {},
   "outputs": [],
   "source": []
  }
 ],
 "metadata": {
  "kernelspec": {
   "display_name": "Python 3",
   "language": "python",
   "name": "python3"
  },
  "language_info": {
   "codemirror_mode": {
    "name": "ipython",
    "version": 3
   },
   "file_extension": ".py",
   "mimetype": "text/x-python",
   "name": "python",
   "nbconvert_exporter": "python",
   "pygments_lexer": "ipython3",
   "version": "3.8.8"
  }
 },
 "nbformat": 4,
 "nbformat_minor": 5
}
