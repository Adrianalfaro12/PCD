{
 "cells": [
  {
   "cell_type": "markdown",
   "id": "0b65f863-d026-4b6b-b6da-041006d3473e",
   "metadata": {},
   "source": [
    "ANÁLISIS EXPLORATORIO DE DATOS CON PYTHON\n"
   ]
  },
  {
   "cell_type": "markdown",
   "id": "92d6fb2e-24d0-4219-97de-2fb37502f319",
   "metadata": {},
   "source": [
    "The dataset you're given (data.csv) contains information about vehicle colision reports in the Monterrey Metropolitan area.\n",
    "Analyze the data and answer the following questions based on it.\n",
    "Please be sure to reply back to us with your answers and attach the source code you used to answer them (it can be a Jupyter notebook, an Rmd script, an R script, a Python script, an Excel spreadsheet, etc.)\n",
    "\n",
    "\n",
    "## Questions\n",
    "\n",
    "\n",
    "1. Which roads \"appear to be\" the top 10 most dangerous roads of Monterrey Metropolitan area?\n",
    "2. What's the age group with the overall highest number of reported colisions? You can consider any age groupings for the purposes of this question. Explain this in a graphical way.\n",
    "3. If you were to see a collision in the \"Garza Sada\" road, What would be the odds for that person to have any type of positive alcohol ingestion opinion?\n",
    "4. Why do you think we use the phrase \"appear to be\" in question 1? What would you need to be able to speak with more confidence about the answer to that question?\n",
    "5. What modelling project would you push to develop from the conclusions in this dataset?\n"
   ]
  },
  {
   "cell_type": "code",
   "execution_count": null,
   "id": "4b5f8941-1d54-416b-b99c-4a33aa0ebc53",
   "metadata": {},
   "outputs": [],
   "source": [
    "1.Comprender el problema\n",
    "2.Estudio univariable\n",
    "3.Estudio multivariable\n",
    "4.Limpieza básica de los datos\n",
    "5.Comprobación de suposiciones"
   ]
  },
  {
   "cell_type": "code",
   "execution_count": 1,
   "id": "ba23df1c-601e-4534-9989-1645de6c824f",
   "metadata": {
    "_cell_guid": "2df621e0-e03c-7aaa-6e08-40ed1d7dfecc",
    "_execution_state": "idle",
    "_uuid": "d581f6797b9fde1580271358d484df67bf6b14a1"
   },
   "outputs": [],
   "source": [
    "# Importo las librerías básicas:\n",
    "\n",
    "import pandas as pd\n",
    "import matplotlib.pyplot as plt\n",
    "import seaborn as sns\n",
    "import numpy as np\n",
    "from scipy.stats import norm\n",
    "from sklearn.preprocessing import StandardScaler\n",
    "from scipy import stats\n",
    "import warnings\n",
    "warnings.filterwarnings('ignore') # Para evitar los molestos avisos.\n",
    "%matplotlib inline"
   ]
  },
  {
   "cell_type": "code",
   "execution_count": null,
   "id": "fa3ad6c6-2ef8-443c-9291-e99f0e255562",
   "metadata": {},
   "outputs": [],
   "source": []
  },
  {
   "cell_type": "code",
   "execution_count": 4,
   "id": "2ee659a0-7003-46e5-bb77-88faa2abc2b3",
   "metadata": {
    "_cell_guid": "d56d5e71-4277-7a74-5306-7d5af4c7f263",
    "_execution_state": "idle",
    "_uuid": "827a72128cd211cf6af16b003e7c09951e3f2b1e"
   },
   "outputs": [
    {
     "data": {
      "text/html": [
       "<div>\n",
       "<style scoped>\n",
       "    .dataframe tbody tr th:only-of-type {\n",
       "        vertical-align: middle;\n",
       "    }\n",
       "\n",
       "    .dataframe tbody tr th {\n",
       "        vertical-align: top;\n",
       "    }\n",
       "\n",
       "    .dataframe thead th {\n",
       "        text-align: right;\n",
       "    }\n",
       "</style>\n",
       "<table border=\"1\" class=\"dataframe\">\n",
       "  <thead>\n",
       "    <tr style=\"text-align: right;\">\n",
       "      <th></th>\n",
       "      <th>Column</th>\n",
       "      <th>Calle</th>\n",
       "      <th>Causa</th>\n",
       "      <th>Ciudad</th>\n",
       "      <th>Cruce</th>\n",
       "      <th>Fecha</th>\n",
       "      <th>Hora</th>\n",
       "      <th>ID</th>\n",
       "      <th>Latitud</th>\n",
       "      <th>Lesionados</th>\n",
       "      <th>...</th>\n",
       "      <th>V2_Uso de Cinturón</th>\n",
       "      <th>V3_Arresto</th>\n",
       "      <th>V3_Dictamen</th>\n",
       "      <th>V3_Edad</th>\n",
       "      <th>V3_Estatus Licencia</th>\n",
       "      <th>V3_Género</th>\n",
       "      <th>V3_No. De Fallecidos</th>\n",
       "      <th>V3_No. De Lesionados</th>\n",
       "      <th>V3_Tipo de Vehículo</th>\n",
       "      <th>V3_Uso de Cinturón</th>\n",
       "    </tr>\n",
       "  </thead>\n",
       "  <tbody>\n",
       "    <tr>\n",
       "      <th>0</th>\n",
       "      <td>0</td>\n",
       "      <td>CAMINO REAL</td>\n",
       "      <td>NO RESPETAR SEÑALAMIENTOS</td>\n",
       "      <td>Monterrey</td>\n",
       "      <td>SANTOS  PALOMO</td>\n",
       "      <td>2016-05-01 00:00:00</td>\n",
       "      <td>1899-12-30 00:00:00</td>\n",
       "      <td>MTY1</td>\n",
       "      <td>25.77443</td>\n",
       "      <td>No</td>\n",
       "      <td>...</td>\n",
       "      <td>NaN</td>\n",
       "      <td>NaN</td>\n",
       "      <td>NaN</td>\n",
       "      <td>NaN</td>\n",
       "      <td>NaN</td>\n",
       "      <td>NaN</td>\n",
       "      <td>NaN</td>\n",
       "      <td>NaN</td>\n",
       "      <td>NaN</td>\n",
       "      <td>NaN</td>\n",
       "    </tr>\n",
       "    <tr>\n",
       "      <th>1</th>\n",
       "      <td>1</td>\n",
       "      <td>BERNARDO REYES</td>\n",
       "      <td>Otros</td>\n",
       "      <td>Monterrey</td>\n",
       "      <td>FIDEL VELAZQUEZ</td>\n",
       "      <td>2016-05-01 00:00:00</td>\n",
       "      <td>1899-12-30 00:00:00</td>\n",
       "      <td>MTY10</td>\n",
       "      <td>25.724161</td>\n",
       "      <td>No</td>\n",
       "      <td>...</td>\n",
       "      <td>NaN</td>\n",
       "      <td>NaN</td>\n",
       "      <td>NaN</td>\n",
       "      <td>NaN</td>\n",
       "      <td>NaN</td>\n",
       "      <td>NaN</td>\n",
       "      <td>NaN</td>\n",
       "      <td>NaN</td>\n",
       "      <td>NaN</td>\n",
       "      <td>NaN</td>\n",
       "    </tr>\n",
       "    <tr>\n",
       "      <th>2</th>\n",
       "      <td>2</td>\n",
       "      <td>BERNARDO REYES</td>\n",
       "      <td>Otros</td>\n",
       "      <td>Monterrey</td>\n",
       "      <td>REFORMA</td>\n",
       "      <td>2016-05-01 00:00:00</td>\n",
       "      <td>1899-12-30 00:00:00</td>\n",
       "      <td>MTY11</td>\n",
       "      <td>25.685874</td>\n",
       "      <td>No</td>\n",
       "      <td>...</td>\n",
       "      <td>NaN</td>\n",
       "      <td>NaN</td>\n",
       "      <td>NaN</td>\n",
       "      <td>NaN</td>\n",
       "      <td>NaN</td>\n",
       "      <td>NaN</td>\n",
       "      <td>NaN</td>\n",
       "      <td>NaN</td>\n",
       "      <td>NaN</td>\n",
       "      <td>NaN</td>\n",
       "    </tr>\n",
       "    <tr>\n",
       "      <th>3</th>\n",
       "      <td>3</td>\n",
       "      <td>LINCOLN</td>\n",
       "      <td>INVADIR CARRIL</td>\n",
       "      <td>Monterrey</td>\n",
       "      <td>CUMBRES DEL SOL</td>\n",
       "      <td>2016-05-01 00:00:00</td>\n",
       "      <td>1899-12-30 00:00:00</td>\n",
       "      <td>MTY12</td>\n",
       "      <td>25.797401</td>\n",
       "      <td>No</td>\n",
       "      <td>...</td>\n",
       "      <td>NaN</td>\n",
       "      <td>NaN</td>\n",
       "      <td>NaN</td>\n",
       "      <td>NaN</td>\n",
       "      <td>NaN</td>\n",
       "      <td>NaN</td>\n",
       "      <td>NaN</td>\n",
       "      <td>NaN</td>\n",
       "      <td>NaN</td>\n",
       "      <td>NaN</td>\n",
       "    </tr>\n",
       "    <tr>\n",
       "      <th>4</th>\n",
       "      <td>4</td>\n",
       "      <td>MADERO</td>\n",
       "      <td>NO GUARDAR DISTANCIA</td>\n",
       "      <td>Monterrey</td>\n",
       "      <td>PABLO A DE LA GARZA</td>\n",
       "      <td>2016-05-01 00:00:00</td>\n",
       "      <td>1899-12-30 00:00:00</td>\n",
       "      <td>MTY13</td>\n",
       "      <td>25.682219</td>\n",
       "      <td>No</td>\n",
       "      <td>...</td>\n",
       "      <td>NaN</td>\n",
       "      <td>NaN</td>\n",
       "      <td>NaN</td>\n",
       "      <td>NaN</td>\n",
       "      <td>NaN</td>\n",
       "      <td>NaN</td>\n",
       "      <td>NaN</td>\n",
       "      <td>NaN</td>\n",
       "      <td>NaN</td>\n",
       "      <td>NaN</td>\n",
       "    </tr>\n",
       "    <tr>\n",
       "      <th>5</th>\n",
       "      <td>5</td>\n",
       "      <td>REVOLUCION</td>\n",
       "      <td>No Respetó Semáforo</td>\n",
       "      <td>Monterrey</td>\n",
       "      <td>PROLONG. ALFONSO REYES</td>\n",
       "      <td>2016-05-01 00:00:00</td>\n",
       "      <td>1899-12-30 00:00:00</td>\n",
       "      <td>MTY14</td>\n",
       "      <td>25.643311</td>\n",
       "      <td>No</td>\n",
       "      <td>...</td>\n",
       "      <td>NaN</td>\n",
       "      <td>NaN</td>\n",
       "      <td>NaN</td>\n",
       "      <td>NaN</td>\n",
       "      <td>NaN</td>\n",
       "      <td>NaN</td>\n",
       "      <td>NaN</td>\n",
       "      <td>NaN</td>\n",
       "      <td>NaN</td>\n",
       "      <td>NaN</td>\n",
       "    </tr>\n",
       "    <tr>\n",
       "      <th>6</th>\n",
       "      <td>6</td>\n",
       "      <td>ANT CAM A VILLA DE SANTIAGO</td>\n",
       "      <td>NO GUARDAR DISTANCIA</td>\n",
       "      <td>Monterrey</td>\n",
       "      <td>CORREOS MEXICANOS</td>\n",
       "      <td>2016-05-01 00:00:00</td>\n",
       "      <td>1899-12-30 00:00:00</td>\n",
       "      <td>MTY15</td>\n",
       "      <td>25.584966</td>\n",
       "      <td>No</td>\n",
       "      <td>...</td>\n",
       "      <td>NaN</td>\n",
       "      <td>NaN</td>\n",
       "      <td>NaN</td>\n",
       "      <td>NaN</td>\n",
       "      <td>NaN</td>\n",
       "      <td>NaN</td>\n",
       "      <td>NaN</td>\n",
       "      <td>NaN</td>\n",
       "      <td>NaN</td>\n",
       "      <td>NaN</td>\n",
       "    </tr>\n",
       "    <tr>\n",
       "      <th>7</th>\n",
       "      <td>7</td>\n",
       "      <td>CHURUBUSCO</td>\n",
       "      <td>NO GUARDAR DISTANCIA</td>\n",
       "      <td>Monterrey</td>\n",
       "      <td>FRANCISCO BELTRAN</td>\n",
       "      <td>2016-05-01 00:00:00</td>\n",
       "      <td>1899-12-30 00:00:00</td>\n",
       "      <td>MTY16</td>\n",
       "      <td>25.691499</td>\n",
       "      <td>No</td>\n",
       "      <td>...</td>\n",
       "      <td>NaN</td>\n",
       "      <td>NaN</td>\n",
       "      <td>NaN</td>\n",
       "      <td>NaN</td>\n",
       "      <td>NaN</td>\n",
       "      <td>NaN</td>\n",
       "      <td>NaN</td>\n",
       "      <td>NaN</td>\n",
       "      <td>NaN</td>\n",
       "      <td>NaN</td>\n",
       "    </tr>\n",
       "    <tr>\n",
       "      <th>8</th>\n",
       "      <td>8</td>\n",
       "      <td>LAS FLORES</td>\n",
       "      <td>INVADIR CARRIL</td>\n",
       "      <td>Monterrey</td>\n",
       "      <td>RANGEL FRIAS</td>\n",
       "      <td>2016-05-01 00:00:00</td>\n",
       "      <td>1899-12-30 00:00:00</td>\n",
       "      <td>MTY17</td>\n",
       "      <td>25.730572</td>\n",
       "      <td>No</td>\n",
       "      <td>...</td>\n",
       "      <td>NaN</td>\n",
       "      <td>NaN</td>\n",
       "      <td>NaN</td>\n",
       "      <td>NaN</td>\n",
       "      <td>NaN</td>\n",
       "      <td>NaN</td>\n",
       "      <td>NaN</td>\n",
       "      <td>NaN</td>\n",
       "      <td>NaN</td>\n",
       "      <td>NaN</td>\n",
       "    </tr>\n",
       "    <tr>\n",
       "      <th>9</th>\n",
       "      <td>9</td>\n",
       "      <td>COLOSIO</td>\n",
       "      <td>Otros</td>\n",
       "      <td>Monterrey</td>\n",
       "      <td>AVE DEL PALMAR</td>\n",
       "      <td>2016-05-01 00:00:00</td>\n",
       "      <td>1899-12-30 00:00:00</td>\n",
       "      <td>MTY18</td>\n",
       "      <td>25.795179</td>\n",
       "      <td>No</td>\n",
       "      <td>...</td>\n",
       "      <td>NaN</td>\n",
       "      <td>NaN</td>\n",
       "      <td>NaN</td>\n",
       "      <td>NaN</td>\n",
       "      <td>NaN</td>\n",
       "      <td>NaN</td>\n",
       "      <td>NaN</td>\n",
       "      <td>NaN</td>\n",
       "      <td>Automóvil</td>\n",
       "      <td>NaN</td>\n",
       "    </tr>\n",
       "  </tbody>\n",
       "</table>\n",
       "<p>10 rows × 50 columns</p>\n",
       "</div>"
      ],
      "text/plain": [
       "   Column                        Calle                      Causa     Ciudad  \\\n",
       "0       0                  CAMINO REAL  NO RESPETAR SEÑALAMIENTOS  Monterrey   \n",
       "1       1               BERNARDO REYES                      Otros  Monterrey   \n",
       "2       2               BERNARDO REYES                      Otros  Monterrey   \n",
       "3       3                      LINCOLN             INVADIR CARRIL  Monterrey   \n",
       "4       4                       MADERO       NO GUARDAR DISTANCIA  Monterrey   \n",
       "5       5                   REVOLUCION        No Respetó Semáforo  Monterrey   \n",
       "6       6  ANT CAM A VILLA DE SANTIAGO       NO GUARDAR DISTANCIA  Monterrey   \n",
       "7       7                   CHURUBUSCO       NO GUARDAR DISTANCIA  Monterrey   \n",
       "8       8                   LAS FLORES             INVADIR CARRIL  Monterrey   \n",
       "9       9                      COLOSIO                      Otros  Monterrey   \n",
       "\n",
       "                    Cruce                Fecha                 Hora     ID  \\\n",
       "0          SANTOS  PALOMO  2016-05-01 00:00:00  1899-12-30 00:00:00   MTY1   \n",
       "1         FIDEL VELAZQUEZ  2016-05-01 00:00:00  1899-12-30 00:00:00  MTY10   \n",
       "2                 REFORMA  2016-05-01 00:00:00  1899-12-30 00:00:00  MTY11   \n",
       "3         CUMBRES DEL SOL  2016-05-01 00:00:00  1899-12-30 00:00:00  MTY12   \n",
       "4     PABLO A DE LA GARZA  2016-05-01 00:00:00  1899-12-30 00:00:00  MTY13   \n",
       "5  PROLONG. ALFONSO REYES  2016-05-01 00:00:00  1899-12-30 00:00:00  MTY14   \n",
       "6       CORREOS MEXICANOS  2016-05-01 00:00:00  1899-12-30 00:00:00  MTY15   \n",
       "7       FRANCISCO BELTRAN  2016-05-01 00:00:00  1899-12-30 00:00:00  MTY16   \n",
       "8            RANGEL FRIAS  2016-05-01 00:00:00  1899-12-30 00:00:00  MTY17   \n",
       "9          AVE DEL PALMAR  2016-05-01 00:00:00  1899-12-30 00:00:00  MTY18   \n",
       "\n",
       "     Latitud Lesionados  ... V2_Uso de Cinturón V3_Arresto V3_Dictamen  \\\n",
       "0   25.77443         No  ...                NaN        NaN         NaN   \n",
       "1  25.724161         No  ...                NaN        NaN         NaN   \n",
       "2  25.685874         No  ...                NaN        NaN         NaN   \n",
       "3  25.797401         No  ...                NaN        NaN         NaN   \n",
       "4  25.682219         No  ...                NaN        NaN         NaN   \n",
       "5  25.643311         No  ...                NaN        NaN         NaN   \n",
       "6  25.584966         No  ...                NaN        NaN         NaN   \n",
       "7  25.691499         No  ...                NaN        NaN         NaN   \n",
       "8  25.730572         No  ...                NaN        NaN         NaN   \n",
       "9  25.795179         No  ...                NaN        NaN         NaN   \n",
       "\n",
       "  V3_Edad  V3_Estatus Licencia  V3_Género V3_No. De Fallecidos  \\\n",
       "0     NaN                  NaN        NaN                  NaN   \n",
       "1     NaN                  NaN        NaN                  NaN   \n",
       "2     NaN                  NaN        NaN                  NaN   \n",
       "3     NaN                  NaN        NaN                  NaN   \n",
       "4     NaN                  NaN        NaN                  NaN   \n",
       "5     NaN                  NaN        NaN                  NaN   \n",
       "6     NaN                  NaN        NaN                  NaN   \n",
       "7     NaN                  NaN        NaN                  NaN   \n",
       "8     NaN                  NaN        NaN                  NaN   \n",
       "9     NaN                  NaN        NaN                  NaN   \n",
       "\n",
       "  V3_No. De Lesionados V3_Tipo de Vehículo V3_Uso de Cinturón  \n",
       "0                  NaN                 NaN                NaN  \n",
       "1                  NaN                 NaN                NaN  \n",
       "2                  NaN                 NaN                NaN  \n",
       "3                  NaN                 NaN                NaN  \n",
       "4                  NaN                 NaN                NaN  \n",
       "5                  NaN                 NaN                NaN  \n",
       "6                  NaN                 NaN                NaN  \n",
       "7                  NaN                 NaN                NaN  \n",
       "8                  NaN                 NaN                NaN  \n",
       "9                  NaN           Automóvil                NaN  \n",
       "\n",
       "[10 rows x 50 columns]"
      ]
     },
     "execution_count": 4,
     "metadata": {},
     "output_type": "execute_result"
    }
   ],
   "source": [
    "# Asigno los datos a un dataframe:\n",
    "\n",
    "df_data = pd.read_csv('data.csv')\n",
    "df_data.head(10)"
   ]
  },
  {
   "cell_type": "code",
   "execution_count": 5,
   "id": "20e62dae-ec2e-4eaf-a2df-b35a70a5ba4f",
   "metadata": {
    "_cell_guid": "02250c81-7e15-c195-2e86-5adbd15c9d30",
    "_execution_state": "idle",
    "_uuid": "10814ba44786b5fea5e333324c6fe54729cabf33"
   },
   "outputs": [
    {
     "data": {
      "text/plain": [
       "Index(['Column', 'Calle', 'Causa', 'Ciudad', 'Cruce', 'Fecha', 'Hora', 'ID',\n",
       "       'Latitud', 'Lesionados', 'Longitud', 'Mes', 'Muertos',\n",
       "       'No. De Infracción', 'Número  total de lesionados',\n",
       "       'Número total de muertos', 'Por alcohol', 'Sentido',\n",
       "       'Situación climática', 'Situación del Pavimento', 'Tipo de incidente',\n",
       "       'Tipo de involucrado', 'Tipo de vía', 'V1_Arresto', 'V1_Dictamen',\n",
       "       'V1_Edad', 'V1_Estatus Licencia', 'V1_Género', 'V1_No. De Fallecidos',\n",
       "       'V1_No. De Lesionados', 'V1_Tipo de Vehículo', 'V1_Uso de Cinturón',\n",
       "       'V2_Arresto', 'V2_Dictamen', 'V2_Edad', 'V2_Estatus Licencia',\n",
       "       'V2_Género', 'V2_No. De Fallecidos', 'V2_No. De Lesionados',\n",
       "       'V2_Tipo de Vehículo', 'V2_Uso de Cinturón', 'V3_Arresto',\n",
       "       'V3_Dictamen', 'V3_Edad', 'V3_Estatus Licencia', 'V3_Género',\n",
       "       'V3_No. De Fallecidos', 'V3_No. De Lesionados', 'V3_Tipo de Vehículo',\n",
       "       'V3_Uso de Cinturón'],\n",
       "      dtype='object')"
      ]
     },
     "execution_count": 5,
     "metadata": {},
     "output_type": "execute_result"
    }
   ],
   "source": [
    "# Echo un vistazo las columnas:\n",
    "\n",
    "df_data.columns"
   ]
  },
  {
   "cell_type": "code",
   "execution_count": 9,
   "id": "6196008a-4a75-4f04-b335-8f28a5d1cf4a",
   "metadata": {},
   "outputs": [
    {
     "data": {
      "text/plain": [
       "array(['No', 'Sí', nan, '0', 'SD', '2', '1', '4', '5', '3'], dtype=object)"
      ]
     },
     "execution_count": 9,
     "metadata": {},
     "output_type": "execute_result"
    }
   ],
   "source": [
    "pd.unique(df_data['Lesionados'])\n"
   ]
  },
  {
   "cell_type": "code",
   "execution_count": 10,
   "id": "fb4849bc-67d5-4969-ad40-73c66aeacb9f",
   "metadata": {},
   "outputs": [
    {
     "data": {
      "text/plain": [
       "array(['Monterrey', 'San Nicolás', 'Guadalupe', 'Apodaca', 'Escobedo',\n",
       "       'Santa Catarina', 'San Pedro', 'García', nan, ' '], dtype=object)"
      ]
     },
     "execution_count": 10,
     "metadata": {},
     "output_type": "execute_result"
    }
   ],
   "source": [
    "pd.unique(df_data['Ciudad'])\n"
   ]
  },
  {
   "cell_type": "markdown",
   "id": "5e790da8-7156-47fa-8c14-fd9e3399fa3f",
   "metadata": {},
   "source": [
    "Which roads \"appear to be\" the top 10 most dangerous roads of Monterrey Metropolitan area?\n",
    "\n",
    "Analizando que calles aparecen mas veces relacionandolo con el numero de incidentes que ocurren\n"
   ]
  },
  {
   "cell_type": "code",
   "execution_count": 12,
   "id": "215d1fc9-90a7-400b-9dd8-f42f0f15f88e",
   "metadata": {},
   "outputs": [
    {
     "data": {
      "text/plain": [
       "MORONES PRIETO                  1729\n",
       "LAZARO CARDENAS                 1279\n",
       "GONZALITOS                      1229\n",
       "GARZA SADA                      1215\n",
       "ALFONSO REYES                   1153\n",
       "                                ... \n",
       "AV CARRETERA A SALTILLO            1\n",
       "CERRO DE LA ESPERANZA              1\n",
       "ANTIGUO CAMINO A LA HUASTECA       1\n",
       "CAMINO DE LA MONTAÑA               1\n",
       "Olmo                               1\n",
       "Name: Calle, Length: 5614, dtype: int64"
      ]
     },
     "execution_count": 12,
     "metadata": {},
     "output_type": "execute_result"
    }
   ],
   "source": [
    "df_data['Calle'].value_counts()"
   ]
  },
  {
   "cell_type": "code",
   "execution_count": 14,
   "id": "707379c2-f01a-4af3-8963-a9812320a614",
   "metadata": {},
   "outputs": [
    {
     "data": {
      "text/plain": [
       "MORONES PRIETO      1729\n",
       "LAZARO CARDENAS     1279\n",
       "GONZALITOS          1229\n",
       "GARZA SADA          1215\n",
       "ALFONSO REYES       1153\n",
       "JOSE VASCONCELOS     964\n",
       "LEONES               891\n",
       "AV. LINCOLN          838\n",
       "CONSTITUCION         823\n",
       "LINCOLN              752\n",
       "Name: Calle, dtype: int64"
      ]
     },
     "execution_count": 14,
     "metadata": {},
     "output_type": "execute_result"
    }
   ],
   "source": [
    "Top_ten_calles=df_data['Calle'].value_counts()\n",
    "Top_ten_calles.head(10)\n"
   ]
  },
  {
   "cell_type": "code",
   "execution_count": 15,
   "id": "a63329cf-d541-49e4-95e6-95e0048d5055",
   "metadata": {},
   "outputs": [
    {
     "data": {
      "text/plain": [
       "No           19943\n",
       "0             2020\n",
       "Sí             362\n",
       "SD              43\n",
       "1                6\n",
       "HUYO             3\n",
       "SE RETIRO        2\n",
       "Name: Muertos, dtype: int64"
      ]
     },
     "execution_count": 15,
     "metadata": {},
     "output_type": "execute_result"
    }
   ],
   "source": [
    "Top_ten_muertes=df_data['Muertos'].value_counts()\n",
    "Top_ten_muertes.head(10)"
   ]
  },
  {
   "cell_type": "code",
   "execution_count": 16,
   "id": "cc72f14a-e478-49d3-b741-938527b95630",
   "metadata": {
    "_cell_guid": "54452e23-f4d3-919f-c734-80a35dc9ae08",
    "_execution_state": "idle",
    "_uuid": "5c15e1bd10b8e71c0b1d62bdb260882585a35579"
   },
   "outputs": [
    {
     "data": {
      "text/plain": [
       "count              54998\n",
       "unique              5614\n",
       "top       MORONES PRIETO\n",
       "freq                1729\n",
       "Name: Calle, dtype: object"
      ]
     },
     "execution_count": 16,
     "metadata": {},
     "output_type": "execute_result"
    }
   ],
   "source": [
    "# Resumen de estadística descriptiva:\n",
    "\n",
    "df_data['Calle'].describe()"
   ]
  },
  {
   "cell_type": "code",
   "execution_count": 17,
   "id": "ee2b5cc4-488e-4964-b2e7-f99305d805c7",
   "metadata": {},
   "outputs": [
    {
     "data": {
      "text/plain": [
       "count     27935\n",
       "unique        9\n",
       "top          No\n",
       "freq      24059\n",
       "Name: Lesionados, dtype: object"
      ]
     },
     "execution_count": 17,
     "metadata": {},
     "output_type": "execute_result"
    }
   ],
   "source": [
    "df_data['Lesionados'].describe()"
   ]
  },
  {
   "cell_type": "code",
   "execution_count": 29,
   "id": "9ee54a87-f870-41b5-a56a-5188ed2bac8f",
   "metadata": {},
   "outputs": [
    {
     "data": {
      "text/plain": [
       "No    24059\n",
       "0      1985\n",
       "SD      946\n",
       "Sí      865\n",
       "1        62\n",
       "2        10\n",
       "3         6\n",
       "4         1\n",
       "5         1\n",
       "Name: Lesionados, dtype: int64"
      ]
     },
     "execution_count": 29,
     "metadata": {},
     "output_type": "execute_result"
    }
   ],
   "source": [
    "Top_ten_lesionados=df_data['Lesionados'].value_counts()\n",
    "Top_ten_lesionados.head(10)"
   ]
  },
  {
   "cell_type": "code",
   "execution_count": 33,
   "id": "021a5156-8566-49d1-8d35-d64eb37f2e9f",
   "metadata": {
    "_cell_guid": "6bbea362-77b6-5385-f0a8-fb53afd088b7",
    "_execution_state": "idle",
    "_uuid": "2f78c77caa7290298138caf167672e62d3bc5a67"
   },
   "outputs": [
    {
     "data": {
      "text/plain": [
       "No           19943\n",
       "0             2020\n",
       "Sí             362\n",
       "SD              43\n",
       "1                6\n",
       "HUYO             3\n",
       "SE RETIRO        2\n",
       "Name: Muertos, dtype: int64"
      ]
     },
     "execution_count": 33,
     "metadata": {},
     "output_type": "execute_result"
    }
   ],
   "source": [
    "Top_ten_muertos=df_data['Muertos'].value_counts()\n",
    "Top_ten_muertos.head(10)"
   ]
  },
  {
   "cell_type": "code",
   "execution_count": 32,
   "id": "fdf3792e-11e9-4013-a412-f28e298f871c",
   "metadata": {},
   "outputs": [
    {
     "data": {
      "image/png": "[encoded data removed]",
      "text/plain": [
       "<Figure size 864x648 with 2 Axes>"
      ]
     },
     "metadata": {
      "needs_background": "light"
     },
     "output_type": "display_data"
    }
   ],
   "source": [
    "# Matriz de correlación:\n",
    "\n",
    "corrmat = df_data.corr()\n",
    "f, ax = plt.subplots(figsize=(12, 9))\n",
    "sns.heatmap(corrmat, vmax=.8, square=True);\n"
   ]
  },
  {
   "cell_type": "code",
   "execution_count": null,
   "id": "9eb3354b-5501-4c50-baa8-e9ddf9b66a52",
   "metadata": {},
   "outputs": [],
   "source": [
    "def fibo_recursivo(n):\n",
    "    if n <= 1:\n",
    "        return n #Caso base\n",
    "    else:\n",
    "        return fibo_recursivo(n - 1) + fibo_recursivo(n - 2)\n",
    "#LLamadas recursivas\n",
    "[fibo_recursivo(x) for x in range(10)]\n",
    "\n",
    "[0,1,2,3,5,8,13,21,34]\n",
    "\n",
    "fibo_recursivo(20)\n",
    "\n",
    "fibo_recursivo(2345)\n",
    "\n",
    "\n",
    "    "
   ]
  },
  {
   "cell_type": "code",
   "execution_count": null,
   "id": "32ca3f5e-4726-4a55-8a7c-693ed3235d8b",
   "metadata": {},
   "outputs": [],
   "source": [
    "fibo_recursivo(2345)"
   ]
  },
  {
   "cell_type": "code",
   "execution_count": null,
   "id": "6cf0e32f-60c5-4e11-876b-67055b015674",
   "metadata": {},
   "outputs": [],
   "source": [
    "fibo_recursivo(20)"
   ]
  },
  {
   "cell_type": "code",
   "execution_count": null,
   "id": "d078d77e-1c3d-47eb-803e-3ef579998a4e",
   "metadata": {},
   "outputs": [],
   "source": [
    "[fibo_recursivo(x) for x in range(10)]"
   ]
  },
  {
   "cell_type": "code",
   "execution_count": null,
   "id": "c63477e8-fb41-445a-a2a2-33921e4a71c8",
   "metadata": {},
   "outputs": [],
   "source": []
  }
 ],
 "metadata": {
  "kernelspec": {
   "display_name": "Python 3",
   "language": "python",
   "name": "python3"
  },
  "language_info": {
   "codemirror_mode": {
    "name": "ipython",
    "version": 3
   },
   "file_extension": ".py",
   "mimetype": "text/x-python",
   "name": "python",
   "nbconvert_exporter": "python",
   "pygments_lexer": "ipython3",
   "version": "3.8.8"
  }
 },
 "nbformat": 4,
 "nbformat_minor": 5
}
